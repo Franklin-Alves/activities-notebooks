{
  "nbformat": 4,
  "nbformat_minor": 0,
  "metadata": {
    "colab": {
      "provenance": [],
      "authorship_tag": "ABX9TyPGiH4zQGhS3HiVHxpLhCOt",
      "include_colab_link": true
    },
    "kernelspec": {
      "name": "python3",
      "display_name": "Python 3"
    },
    "language_info": {
      "name": "python"
    }
  },
  "cells": [
    {
      "cell_type": "markdown",
      "metadata": {
        "id": "view-in-github",
        "colab_type": "text"
      },
      "source": [
        "<a href=\"https://colab.research.google.com/github/Franklin-Alves/activities-notebooks/blob/main/m%C3%B3dulo-b%C3%A1sico/Oficina2.ipynb\" target=\"_parent\"><img src=\"https://colab.research.google.com/assets/colab-badge.svg\" alt=\"Open In Colab\"/></a>"
      ]
    },
    {
      "cell_type": "markdown",
      "source": [
        "# **Passos:**\n",
        "\n",
        "*   Encontrar usuários inativos: Precisamos encontrar os usuários que não fizeram login nos últimos 30 dias.\n",
        "*   Enviar uma mensagem personalizada: Precisamos enviar uma mensagem para esses usuários, convidando-os a voltar a usar a rede social.\n",
        "\n",
        "# **Pseudocódigo:**\n",
        "*   Passo 1: Obter lista de usuários. Primeiro devemos listar todos os usuários do software, pois nele está contido os dados dos usuários.\n",
        "*   Passo 2: Obter a data atual. Precisamos da data atual para verificar o tempo que o usuário estava inativo\n",
        "*   Passo 3: Verificar o último login de cada usuário. Desta forma, podemos verificar quando cada usuário esteve a última vez acessando o sistema\n",
        "*   Passo 4: Calcular o tempo que o usuário não acessa o sistema. Fazemos o cálculo para saber os dias de inatividade dos usuários\n",
        "*   Passo 5: Se os dias de inatividade ultrapassam 30 dias, adicionar a lista de inatividade. Com isso criamos uma nova lista para classificar os usuários e também porque precisamos saber para quais usuários enviar as mensagens.\n",
        "*   Passo 6: Criar uma mensagem personalizada para cada usuário inativo. A mensagem personalizada é importante não apenas para lembra os usuários de usar o sistema, mas também serve até como uma jogada de fidelização ou marketing para atrair o usuário.\n",
        "\n",
        "\n",
        "\n",
        "\n",
        "\n",
        "\n",
        "\n",
        "\n"
      ],
      "metadata": {
        "id": "8lIQf_qip0zb"
      }
    },
    {
      "cell_type": "code",
      "execution_count": null,
      "metadata": {
        "id": "bjugG3wAjWVQ"
      },
      "outputs": [],
      "source": [
        "import pandas as pd\n",
        "import numpy as np\n",
        "from datetime import datetime"
      ]
    },
    {
      "cell_type": "code",
      "source": [
        "#a chave login_encerrado armazena valores de dias que o usuário não acessa o sistema\n",
        "data = [\n",
        "    {\"usuario\": \"franklin123\", \"login_encerrado\": datetime(2025, 4, 25)},\n",
        "    {\"usuario\": \"henrique01\", \"login_encerrado\": datetime(2024, 12, 10)},\n",
        "    {\"usuario\": \"jack2\", \"login_encerrado\": datetime(2025, 3, 3)},\n",
        "    {\"usuario\":\"gilmarfrança\", \"login_encerrado\": datetime(2024, 12, 30)},\n",
        "    {\"usuario\":\"reginaldo11\", \"login_encerrado\": datetime(2025, 4, 23)},\n",
        "    {\"usuario\": \"assis23\", \"login_encerrado\": datetime(2025, 4, 12)},\n",
        "    {\"usuario\": \"luide324\", \"login_encerrado\": datetime(2025, 5, 5)},\n",
        "    {\"usuario\": \"ramon54\", \"login_encerrado\": datetime(2025, 4, 28)},\n",
        "    {\"usuario\": \"miguel55\", \"login_encerrado\": datetime(2024, 11, 3)},\n",
        "    {\"usuario\": \"gilson32\", \"login_encerrado\": datetime(2025, 1, 3)},\n",
        "]\n",
        "\n",
        "dateAtual = datetime.now()"
      ],
      "metadata": {
        "id": "-rl3hqkOk0_M"
      },
      "execution_count": null,
      "outputs": []
    },
    {
      "cell_type": "code",
      "source": [
        "inatividade = []\n",
        "for dt in data:\n",
        "  dtUsuario = dt['login_encerrado']\n",
        "  dias = (dateAtual - dtUsuario).days\n",
        "  dt['dias'] = dias\n",
        "  if dias >= 30:\n",
        "    inatividade.append(dt)"
      ],
      "metadata": {
        "id": "_rqokVOwr1gz"
      },
      "execution_count": null,
      "outputs": []
    },
    {
      "cell_type": "code",
      "source": [
        "for inat in inatividade:\n",
        "    if inat['dias'] < 100:\n",
        "      print(f\"\"\"Sentimos sua falta! Volte para aproveitar as novidades\n",
        "Olá, \\033[1;31m{inat['usuario']}!\\033[0m Notamos que faz um tempinho que você não acessa o sistema e queremos\n",
        "te lembrar que estamos sempre evoluindo. Temos novidades e melhorias que podem ser muito úteis para você!\n",
        "\\n\"\"\", end=\"\")\n",
        "    else:\n",
        "      print(f\"\"\"Está tudo bem por aí? Sua conta ainda está ativa!\n",
        "Olá, \\033[1;36m{inat['usuario']}!\\033[0m Faz mais de 100 dias desde seu último acesso, e sentimos sua ausência.\n",
        "Esperamos que esteja tudo bem com você.\\n\"\"\")"
      ],
      "metadata": {
        "colab": {
          "base_uri": "https://localhost:8080/"
        },
        "id": "8fut8UhYO4qy",
        "outputId": "7eb4fb6e-c147-43be-b33d-ccad5a71c452"
      },
      "execution_count": null,
      "outputs": [
        {
          "output_type": "stream",
          "name": "stdout",
          "text": [
            "Está tudo bem por aí? Sua conta ainda está ativa!\n",
            "Olá, \u001b[1;36mhenrique01!\u001b[0m Faz mais de 100 dias desde seu último acesso, e sentimos sua ausência. \n",
            "Esperamos que esteja tudo bem com você.\n",
            "\n",
            "Sentimos sua falta! Volte para aproveitar as novidades\n",
            "Olá, \u001b[1;31mjack2!\u001b[0m Notamos que faz um tempinho que você não acessa o sistema e queremos \n",
            "te lembrar que estamos sempre evoluindo. Temos novidades e melhorias que podem ser muito úteis para você!\n",
            "\n",
            "Está tudo bem por aí? Sua conta ainda está ativa!\n",
            "Olá, \u001b[1;36mgilmarfrança!\u001b[0m Faz mais de 100 dias desde seu último acesso, e sentimos sua ausência. \n",
            "Esperamos que esteja tudo bem com você.\n",
            "\n",
            "Está tudo bem por aí? Sua conta ainda está ativa!\n",
            "Olá, \u001b[1;36mmiguel55!\u001b[0m Faz mais de 100 dias desde seu último acesso, e sentimos sua ausência. \n",
            "Esperamos que esteja tudo bem com você.\n",
            "\n",
            "Está tudo bem por aí? Sua conta ainda está ativa!\n",
            "Olá, \u001b[1;36mgilson32!\u001b[0m Faz mais de 100 dias desde seu último acesso, e sentimos sua ausência. \n",
            "Esperamos que esteja tudo bem com você.\n",
            "\n"
          ]
        }
      ]
    }
  ]
}