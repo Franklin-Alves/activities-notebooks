{
  "nbformat": 4,
  "nbformat_minor": 0,
  "metadata": {
    "colab": {
      "provenance": [],
      "authorship_tag": "ABX9TyN/gP8AX+KlE/4tcUNzRkW+",
      "include_colab_link": true
    },
    "kernelspec": {
      "name": "python3",
      "display_name": "Python 3"
    },
    "language_info": {
      "name": "python"
    }
  },
  "cells": [
    {
      "cell_type": "markdown",
      "metadata": {
        "id": "view-in-github",
        "colab_type": "text"
      },
      "source": [
        "<a href=\"https://colab.research.google.com/github/Franklin-Alves/activities-notebooks/blob/main/m%C3%B3dulo-b%C3%A1sico/Oficina4.ipynb\" target=\"_parent\"><img src=\"https://colab.research.google.com/assets/colab-badge.svg\" alt=\"Open In Colab\"/></a>"
      ]
    },
    {
      "cell_type": "code",
      "source": [
        "import numpy as np\n",
        "lista = [12, 45, 67, 23, 89, 34, 22, 90, 56, 78]\n",
        "numeros = np.array(lista)\n",
        "print(numeros)"
      ],
      "metadata": {
        "colab": {
          "base_uri": "https://localhost:8080/"
        },
        "id": "W-2Gt4T03nAR",
        "outputId": "3f4abcc1-9026-45ce-d151-be621dac87e1"
      },
      "execution_count": null,
      "outputs": [
        {
          "output_type": "stream",
          "name": "stdout",
          "text": [
            "[12 45 67 23 89 34 22 90 56 78]\n"
          ]
        }
      ]
    },
    {
      "cell_type": "code",
      "source": [
        "media = numeros.mean()\n",
        "print(media)"
      ],
      "metadata": {
        "colab": {
          "base_uri": "https://localhost:8080/"
        },
        "id": "WA96kOH84Nv8",
        "outputId": "e8b4287c-31ac-416d-9f60-4a78593cf961"
      },
      "execution_count": null,
      "outputs": [
        {
          "output_type": "stream",
          "name": "stdout",
          "text": [
            "51.6\n"
          ]
        }
      ]
    },
    {
      "cell_type": "code",
      "source": [
        "maiores = numeros[numeros > media]\n",
        "print(maiores)"
      ],
      "metadata": {
        "colab": {
          "base_uri": "https://localhost:8080/"
        },
        "id": "chiZ3MIS5ZH-",
        "outputId": "b345e431-ec19-46d6-c676-b48c741f3066"
      },
      "execution_count": null,
      "outputs": [
        {
          "output_type": "stream",
          "name": "stdout",
          "text": [
            "[67 89 90 56 78]\n"
          ]
        }
      ]
    },
    {
      "cell_type": "code",
      "source": [
        "import pandas as pd\n",
        "\n",
        "dados = pd.DataFrame(maiores)\n",
        "print(dados)"
      ],
      "metadata": {
        "colab": {
          "base_uri": "https://localhost:8080/"
        },
        "id": "uRnqO_ar53kZ",
        "outputId": "e162a3e4-06d1-471e-de11-2593ccf98fba"
      },
      "execution_count": null,
      "outputs": [
        {
          "output_type": "stream",
          "name": "stdout",
          "text": [
            "    0\n",
            "0  67\n",
            "1  89\n",
            "2  90\n",
            "3  56\n",
            "4  78\n"
          ]
        }
      ]
    },
    {
      "cell_type": "code",
      "source": [
        "dados.to_csv(\"datasets/numeros_maiores_que_media.csv\", index=False)"
      ],
      "metadata": {
        "id": "tmZ6Zazy6uVZ"
      },
      "execution_count": null,
      "outputs": []
    }
  ]
}